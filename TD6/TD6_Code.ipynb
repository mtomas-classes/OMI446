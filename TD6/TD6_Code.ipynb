{
 "cells": [
  {
   "cell_type": "markdown",
   "metadata": {},
   "source": [
    "# TD4: Quelques faits statistiques des séries financières\n",
    "Cours de **Physique Statistique - OMI 446**\n",
    "*Michael Benzaquen,*\n",
    "*Antoine Fosset, José Moran, Mehdi Tomas* \n",
    "\n",
    "On présente ici quelques fonctions pour vous aider à répondre aux questions."
   ]
  },
  {
   "cell_type": "markdown",
   "metadata": {},
   "source": [
    "## Aide: quelques conseils\n",
    "\n",
    "On rapelle ici:\n",
    "\n",
    "- la création de liste avec la syntaxe `[f(x) for x in liste_elements]`\n",
    "- comment générer des échantillons de loi normale avec `np.random.normal`\n",
    "- comment changer les échelles d'un graphe en échelle logarithmique avec `plt.xscale` et `plt.yscale`"
   ]
  },
  {
   "cell_type": "code",
   "execution_count": 4,
   "metadata": {},
   "outputs": [
    {
     "data": {
      "text/plain": [
       "[0, 1, 4]"
      ]
     },
     "execution_count": 4,
     "metadata": {},
     "output_type": "execute_result"
    }
   ],
   "source": [
    "def f(x):\n",
    "    return x*x\n",
    "    \n",
    "[f(x) for x in [0,1,2]]"
   ]
  },
  {
   "cell_type": "code",
   "execution_count": 25,
   "metadata": {},
   "outputs": [
    {
     "data": {
      "text/plain": [
       "array([-3.16740146, -0.04454043,  1.33360883, -0.14721454,  0.27536706,\n",
       "        3.81410673,  2.48188364, -1.07057713,  0.40228368,  5.51804315])"
      ]
     },
     "execution_count": 25,
     "metadata": {},
     "output_type": "execute_result"
    }
   ],
   "source": [
    "moyenne = 1.0\n",
    "sigma = 2.0\n",
    "N_echantillons = 10\n",
    "\n",
    "np.random.normal(size=N_echantillons, loc=moyenne, scale=sigma)"
   ]
  },
  {
   "cell_type": "code",
   "execution_count": 32,
   "metadata": {},
   "outputs": [
    {
     "data": {
      "image/png": "[encoded data removed]",
      "text/plain": [
       "<Figure size 432x288 with 1 Axes>"
      ]
     },
     "metadata": {},
     "output_type": "display_data"
    }
   ],
   "source": [
    "x = np.linspace(3,5)\n",
    "y = 2*np.log(x) + 1\n",
    "\n",
    "plt.plot(x,y)\n",
    "plt.xscale('log')\n",
    "plt.show()"
   ]
  },
  {
   "cell_type": "code",
   "execution_count": 35,
   "metadata": {},
   "outputs": [
    {
     "data": {
      "image/png": "[encoded data removed]",
      "text/plain": [
       "<Figure size 432x288 with 1 Axes>"
      ]
     },
     "metadata": {},
     "output_type": "display_data"
    }
   ],
   "source": [
    "x = np.linspace(3,5)\n",
    "y = x**(0.5)\n",
    "\n",
    "plt.plot(x,y)\n",
    "plt.xscale('log')\n",
    "plt.yscale('log')\n",
    "plt.show()"
   ]
  },
  {
   "cell_type": "markdown",
   "metadata": {},
   "source": [
    "## Aide: Préparation des données"
   ]
  },
  {
   "cell_type": "code",
   "execution_count": 5,
   "metadata": {
    "collapsed": true
   },
   "outputs": [],
   "source": [
    "import pandas as pd\n",
    "import numpy as np\n",
    "import matplotlib.pyplot as plt"
   ]
  },
  {
   "cell_type": "code",
   "execution_count": 3,
   "metadata": {
    "collapsed": true
   },
   "outputs": [],
   "source": [
    "data = pd.read_csv(\"^GSPC.csv\")\n",
    "data.index = pd.to_datetime(data[\"Date\"])"
   ]
  },
  {
   "cell_type": "markdown",
   "metadata": {},
   "source": [
    "### Calcul des returns\n",
    "\n",
    "Pour calculer les *returns*, on pourra utiliser la méthode `shift`$(-\\Delta)$ qui transforme la série $x_1, \\cdots x_t$ en $x_{\\Delta}, \\cdots x_{t-\\Delta}$ et impute les valeurs manquantes pour que les deux séries soient de même taille.\n",
    "\n",
    "On donne un exemple:"
   ]
  },
  {
   "cell_type": "code",
   "execution_count": 14,
   "metadata": {},
   "outputs": [
    {
     "name": "stdout",
     "output_type": "stream",
     "text": [
      "0    0\n",
      "1    1\n",
      "2    2\n",
      "3    3\n",
      "4    4\n",
      "dtype: int64\n",
      "Shift 0: \n",
      " 0    0\n",
      "1    1\n",
      "2    2\n",
      "3    3\n",
      "4    4\n",
      "dtype: int64\n",
      "Shift -2: \n",
      " 0    2.0\n",
      "1    3.0\n",
      "2    4.0\n",
      "3    NaN\n",
      "4    NaN\n",
      "dtype: float64\n",
      "Shift +2: \n",
      " 0    NaN\n",
      "1    NaN\n",
      "2    0.0\n",
      "3    1.0\n",
      "4    2.0\n",
      "dtype: float64\n"
     ]
    }
   ],
   "source": [
    "x_t = np.arange(0, 5)\n",
    "x = pd.Series(x_t)\n",
    "print(x)\n",
    "print(\"Shift 0: \\n\", x.shift(0))\n",
    "print(\"Shift -2: \\n\", x.shift(-2))\n",
    "print(\"Shift +2: \\n\", x.shift(2))"
   ]
  },
  {
   "cell_type": "markdown",
   "metadata": {},
   "source": [
    "### Gestion des valeurs manquantes\n",
    "\n",
    "La méthode `dropna` retire les valeurs manquantes d'une série donnée.\n",
    "\n",
    "On donne un exemple:"
   ]
  },
  {
   "cell_type": "code",
   "execution_count": 17,
   "metadata": {},
   "outputs": [
    {
     "name": "stdout",
     "output_type": "stream",
     "text": [
      "0    0.0\n",
      "1    NaN\n",
      "2    1.0\n",
      "3    NaN\n",
      "dtype: float64\n",
      "0    0.0\n",
      "2    1.0\n",
      "dtype: float64\n"
     ]
    }
   ],
   "source": [
    "x_t = np.array([0, np.nan, 1, np.nan])\n",
    "x = pd.Series(x_t)\n",
    "print(x)\n",
    "print(x.dropna())"
   ]
  },
  {
   "cell_type": "markdown",
   "metadata": {},
   "source": [
    "## Aide: Partie 2, fonctions de survie\n",
    "\n",
    "On utilisera les fonctions définies ci-après pour calculer les fonctions de survie d'une loi de student centrée et d'une loi normale centrée. \n",
    "\n",
    "On donne un exemple ensuite:"
   ]
  },
  {
   "cell_type": "code",
   "execution_count": 19,
   "metadata": {
    "collapsed": true
   },
   "outputs": [],
   "source": [
    "def survie_student(x, sigma, nu):\n",
    "    from scipy.stats import t\n",
    "    return t.sf(x=x, scale=sigma, df=nu)\n",
    "\n",
    "def survie_normal(x,sigma):\n",
    "    from scipy.stats import norm\n",
    "    return norm.sf(x=x, scale=sigma)"
   ]
  },
  {
   "cell_type": "code",
   "execution_count": 32,
   "metadata": {},
   "outputs": [
    {
     "data": {
      "image/png": "[encoded data removed]",
      "text/plain": [
       "<Figure size 432x288 with 1 Axes>"
      ]
     },
     "metadata": {},
     "output_type": "display_data"
    },
    {
     "data": {
      "image/png": "[encoded data removed]",
      "text/plain": [
       "<Figure size 432x288 with 1 Axes>"
      ]
     },
     "metadata": {},
     "output_type": "display_data"
    }
   ],
   "source": [
    "X = np.linspace(-5,5,num=50)\n",
    "\n",
    "\n",
    "sigma = 1.0\n",
    "plt.clf()\n",
    "plt.title(\"Fonction de survie d'une loi normale\")\n",
    "plt.plot(X,[survie_normal(x,sigma) for x in X])\n",
    "plt.show()\n",
    "\n",
    "\n",
    "sigma = 1.0\n",
    "nu = 1.0\n",
    "plt.clf()\n",
    "plt.title(\"Fonction de survie d'une loi de student\")\n",
    "plt.plot(X,[survie_student(x,sigma, nu) for x in X])\n",
    "plt.show()"
   ]
  },
  {
   "cell_type": "markdown",
   "metadata": {},
   "source": [
    "## Aide: Partie 2, histogrammes\n",
    "\n",
    "On donne un exemple de l'utilisation de la fonction `plt.hist`. On se contentera de l'appel le plus simple à la fonction où l'on spécifie les données et le nombre de *bins* à utiliser, c'est-à-dire le nombre d'intervalles différents que l'on considère.\n",
    "\n",
    "\n",
    "Lors de l'appel a la fonction, on doit de plus préciser:\n",
    "- `normed=True`\n",
    "- `cumulative=-1` pour la fonction de survie\n",
    "- `cumulative=1` pour la fonction de répartition\n"
   ]
  },
  {
   "cell_type": "code",
   "execution_count": 49,
   "metadata": {},
   "outputs": [
    {
     "name": "stderr",
     "output_type": "stream",
     "text": [
      "/Users/TM/anaconda/lib/python3.5/site-packages/matplotlib/axes/_axes.py:6571: UserWarning: The 'normed' kwarg is deprecated, and has been replaced by the 'density' kwarg.\n",
      "  warnings.warn(\"The 'normed' kwarg is deprecated, and has been \"\n"
     ]
    },
    {
     "data": {
      "text/plain": [
       "(array([0.02, 0.04, 0.06, 0.08, 0.1 , 0.12, 0.14, 0.16, 0.18, 0.2 , 0.22,\n",
       "        0.24, 0.26, 0.28, 0.3 , 0.32, 0.34, 0.36, 0.38, 0.4 , 0.42, 0.44,\n",
       "        0.46, 0.48, 0.5 , 0.52, 0.54, 0.56, 0.58, 0.6 , 0.62, 0.64, 0.66,\n",
       "        0.68, 0.7 , 0.72, 0.74, 0.76, 0.78, 0.8 , 0.82, 0.84, 0.86, 0.88,\n",
       "        0.9 , 0.92, 0.94, 0.96, 0.98, 1.  ]),\n",
       " array([-1.  , -0.96, -0.92, -0.88, -0.84, -0.8 , -0.76, -0.72, -0.68,\n",
       "        -0.64, -0.6 , -0.56, -0.52, -0.48, -0.44, -0.4 , -0.36, -0.32,\n",
       "        -0.28, -0.24, -0.2 , -0.16, -0.12, -0.08, -0.04,  0.  ,  0.04,\n",
       "         0.08,  0.12,  0.16,  0.2 ,  0.24,  0.28,  0.32,  0.36,  0.4 ,\n",
       "         0.44,  0.48,  0.52,  0.56,  0.6 ,  0.64,  0.68,  0.72,  0.76,\n",
       "         0.8 ,  0.84,  0.88,  0.92,  0.96,  1.  ]),\n",
       " <a list of 50 Patch objects>)"
      ]
     },
     "execution_count": 49,
     "metadata": {},
     "output_type": "execute_result"
    }
   ],
   "source": [
    "x = np.linspace(-1,1,num=200)\n",
    "plt.hist(x, bins=50, normed=True, cumulative=1)"
   ]
  },
  {
   "cell_type": "code",
   "execution_count": 51,
   "metadata": {},
   "outputs": [
    {
     "name": "stderr",
     "output_type": "stream",
     "text": [
      "/Users/TM/anaconda/lib/python3.5/site-packages/matplotlib/axes/_axes.py:6571: UserWarning: The 'normed' kwarg is deprecated, and has been replaced by the 'density' kwarg.\n",
      "  warnings.warn(\"The 'normed' kwarg is deprecated, and has been \"\n"
     ]
    },
    {
     "data": {
      "text/plain": [
       "(array([200., 196., 192., 188., 184., 180., 176., 172., 168., 164., 160.,\n",
       "        156., 152., 148., 144., 140., 136., 132., 128., 124., 120., 116.,\n",
       "        112., 108., 104., 100.,  96.,  92.,  88.,  84.,  80.,  76.,  72.,\n",
       "         68.,  64.,  60.,  56.,  52.,  48.,  44.,  40.,  36.,  32.,  28.,\n",
       "         24.,  20.,  16.,  12.,   8.,   4.]),\n",
       " array([-1.  , -0.96, -0.92, -0.88, -0.84, -0.8 , -0.76, -0.72, -0.68,\n",
       "        -0.64, -0.6 , -0.56, -0.52, -0.48, -0.44, -0.4 , -0.36, -0.32,\n",
       "        -0.28, -0.24, -0.2 , -0.16, -0.12, -0.08, -0.04,  0.  ,  0.04,\n",
       "         0.08,  0.12,  0.16,  0.2 ,  0.24,  0.28,  0.32,  0.36,  0.4 ,\n",
       "         0.44,  0.48,  0.52,  0.56,  0.6 ,  0.64,  0.68,  0.72,  0.76,\n",
       "         0.8 ,  0.84,  0.88,  0.92,  0.96,  1.  ]),\n",
       " <a list of 50 Patch objects>)"
      ]
     },
     "execution_count": 51,
     "metadata": {},
     "output_type": "execute_result"
    }
   ],
   "source": [
    "x = np.linspace(-1,1,num=200)\n",
    "plt.hist(x, bins=50, normed=False, cumulative=-1)"
   ]
  }
 ],
 "metadata": {
  "anaconda-cloud": {},
  "kernelspec": {
   "display_name": "Python [conda env:anaconda]",
   "language": "python",
   "name": "conda-env-anaconda-py"
  },
  "language_info": {
   "codemirror_mode": {
    "name": "ipython",
    "version": 3
   },
   "file_extension": ".py",
   "mimetype": "text/x-python",
   "name": "python",
   "nbconvert_exporter": "python",
   "pygments_lexer": "ipython3",
   "version": "3.5.4"
  }
 },
 "nbformat": 4,
 "nbformat_minor": 2
}
